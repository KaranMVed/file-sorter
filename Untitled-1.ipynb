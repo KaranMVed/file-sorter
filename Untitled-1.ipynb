{
 "cells": [
  {
   "cell_type": "code",
   "execution_count": null,
   "metadata": {},
   "outputs": [],
   "source": []
  },
  {
   "cell_type": "code",
   "execution_count": null,
   "metadata": {},
   "outputs": [],
   "source": []
  },
  {
   "cell_type": "markdown",
   "metadata": {},
   "source": [
    "AUTOMATIC FILE SOTTER\n"
   ]
  },
  {
   "cell_type": "code",
   "execution_count": 41,
   "metadata": {},
   "outputs": [],
   "source": [
    "import os, shutil\n"
   ]
  },
  {
   "cell_type": "code",
   "execution_count": 69,
   "metadata": {},
   "outputs": [],
   "source": [
    "path= r\"C:/Users/karan/Desktop/karan_files/\""
   ]
  },
  {
   "cell_type": "code",
   "execution_count": 70,
   "metadata": {},
   "outputs": [],
   "source": [
    "file_nameos=os.listdir(path)"
   ]
  },
  {
   "cell_type": "code",
   "execution_count": 71,
   "metadata": {},
   "outputs": [],
   "source": [
    "folder_names= ['csv files','excel files','Power BI File','image file','json file','python file','sql file','png','text file']\n",
    "for loop in range(0,9):\n",
    "    if not os.path.exists(path+folder_names[loop]):\n",
    "        os.makedirs(path+folder_names[loop])"
   ]
  },
  {
   "cell_type": "code",
   "execution_count": 78,
   "metadata": {},
   "outputs": [],
   "source": [
    "for file in file_nameos:\n",
    "    if '.pbix' in file and not os.path.exists(path+\"Power BI File/\"+ file):\n",
    "        shutil.move(path+file, path+\"Power BI File/\"+ file)\n",
    "    elif'.xlsx' in file and not os.path.exists(path+\"excel files/\"+ file):\n",
    "        shutil.move(path+file, path+\"excel files/\"+ file)\n",
    "    elif'.jpg' in file and not os.path.exists(path+\"image file/\"+ file):\n",
    "        shutil.move(path+file, path+\"image file/\"+ file)\n",
    "    elif'.sql' in file and not os.path.exists(path+\"sql file/\"+ file):\n",
    "        shutil.move(path+file, path+\"sql file/\"+ file)\n",
    "    elif'.txt' in file and not os.path.exists(path+\"text file/\"+ file):\n",
    "        shutil.move(path+file, path+\"text file/\"+ file) \n",
    "    elif'.png' in file and not os.path.exists(path+\"png/\"+ file):\n",
    "        shutil.move(path+file, path+\"png/\"+ file)   \n",
    "    elif'.ipynb' in file and not os.path.exists(path+\"python file/\"+ file):\n",
    "        shutil.move(path+file, path+\"python file/\"+ file)     \n",
    "    elif'.csv' in file and not os.path.exists(path+\"csv files/\"+ file):\n",
    "        shutil.move(path+file, path+\"csv files/\"+ file)                  "
   ]
  },
  {
   "cell_type": "code",
   "execution_count": 81,
   "metadata": {},
   "outputs": [],
   "source": [
    "for file in file_nameos:\n",
    "     if '.rtf' in file and not os.path.exists(path+\"text file/\"+ file):\n",
    "        shutil.move(path+file, path+\"text file/\"+ file)"
   ]
  },
  {
   "cell_type": "code",
   "execution_count": null,
   "metadata": {},
   "outputs": [],
   "source": []
  }
 ],
 "metadata": {
  "kernelspec": {
   "display_name": "Python 3",
   "language": "python",
   "name": "python3"
  },
  "language_info": {
   "codemirror_mode": {
    "name": "ipython",
    "version": 3
   },
   "file_extension": ".py",
   "mimetype": "text/x-python",
   "name": "python",
   "nbconvert_exporter": "python",
   "pygments_lexer": "ipython3",
   "version": "3.11.4"
  },
  "orig_nbformat": 4
 },
 "nbformat": 4,
 "nbformat_minor": 2
}
